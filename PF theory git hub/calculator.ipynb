{
 "cells": [
  {
   "cell_type": "markdown",
   "metadata": {},
   "source": [
    "## Programming Fundamental ( Theory )\n",
    "### Name :    **Aman Ali**\n",
    "### Roll No : **195**\n",
    "### Program : **BSAI**\n",
    "### Section : ***1C***\n",
    "### Task : Calculator\n",
    "\n",
    "<hr>\n",
    "\n",
    "## Calculator Program "
   ]
  },
  {
   "cell_type": "code",
   "execution_count": 4,
   "metadata": {},
   "outputs": [
    {
     "name": "stdout",
     "output_type": "stream",
     "text": [
      "12 * 2 = 24\n"
     ]
    }
   ],
   "source": [
    "number1 = int(input(\"Enter first number : \"))\n",
    "number2 = int(input(\"Enter second number : \"))\n",
    "operator = input(\"Enter operator (+, -, *, /) : \")\n",
    "\n",
    "if operator == \"+\":\n",
    "    print(f\"{number1} {operator} {number2} = {number1 + number2}\")\n",
    "elif operator == \"-\":\n",
    "    print(f\"{number1} {operator} {number2} = {number1 - number2}\")\n",
    "elif operator == \"*\":\n",
    "    print(f\"{number1} {operator} {number2} = {number1 * number2}\")\n",
    "elif operator == \"/\":\n",
    "    print(f\"{number1} {operator} {number2} = {number1 / number2}\")\n",
    "else:\n",
    "    print(\"Invalid Operator\")"
   ]
  }
 ],
 "metadata": {
  "kernelspec": {
   "display_name": "Python 3",
   "language": "python",
   "name": "python3"
  },
  "language_info": {
   "codemirror_mode": {
    "name": "ipython",
    "version": 3
   },
   "file_extension": ".py",
   "mimetype": "text/x-python",
   "name": "python",
   "nbconvert_exporter": "python",
   "pygments_lexer": "ipython3",
   "version": "3.13.0"
  }
 },
 "nbformat": 4,
 "nbformat_minor": 2
}
